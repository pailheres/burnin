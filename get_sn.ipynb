{
 "cells": [
  {
   "cell_type": "code",
   "execution_count": 4,
   "metadata": {},
   "outputs": [],
   "source": [
    "import json\n",
    "import requests\n",
    "import sys\n",
    "import pandas as pd\n",
    "from pprint import pprint\n",
    "import re"
   ]
  },
  {
   "cell_type": "code",
   "execution_count": 5,
   "metadata": {},
   "outputs": [],
   "source": [
    "def print_serial_number(a_if_num, a_payload_reg):\n",
    "    url_part_1 = 'http://192.168.133.'\n",
    "    url_part_2 = '/private/edit_private.cs'\n",
    "    \n",
    "    sys.stdout.write('IF#'+str(a_if_num))\n",
    "    if 'PSF' in a_payload_reg:\n",
    "        sys.stdout.write(',SF#'+a_payload_reg['PSF'])\n",
    "    if 'PMO' in a_payload_reg:\n",
    "        sys.stdout.write(',MO#'+a_payload_reg['PMO'])\n",
    "    sys.stdout.write(' : ')\n",
    "\n",
    "    #GET with params in URL\n",
    "    resp = requests.get(url_part_1+str(ifocom_num)+url_part_2, params=a_payload_reg, auth=('webadm', 'webpwd'))\n",
    "\n",
    "    matchObj = re.search( r'.*OLD VALUE : ([A-Z]{3}[0-9]{9}).*', resp.text)\n",
    "    if matchObj:\n",
    "        sys.stdout.write(matchObj.group(1) + '\\n')\n",
    "    else:\n",
    "        sys.stdout.write('not_found\\n')"
   ]
  },
  {
   "cell_type": "code",
   "execution_count": 6,
   "metadata": {},
   "outputs": [
    {
     "name": "stdout",
     "output_type": "stream",
     "text": [
      "IF#47,SF#1,MO#1 : MDI171004190\n",
      "IF#47,SF#1,MO#2 : MDI171004191\n",
      "IF#47,SF#1,MO#3 : MDI171004192\n",
      "IF#47,SF#1,MO#4 : MDI171004193\n",
      "IF#47,SF#1,MO#5 : MDI171004194\n",
      "IF#47,SF#1,MO#6 : MDI171004195\n",
      "IF#47,SF#1 : SFO170915099\n",
      "IF#47,SF#2,MO#1 : MDI171004128\n",
      "IF#47,SF#2,MO#2 : MDI171004130\n",
      "IF#47,SF#2,MO#3 : MDI171004131\n",
      "IF#47,SF#2,MO#4 : MDI171004187\n",
      "IF#47,SF#2,MO#5 : MDI171004186\n",
      "IF#47,SF#2,MO#6 : MDI171004185\n",
      "IF#47,SF#2 : SFO140201097\n",
      "IF#47,SF#3,MO#1 : MDI171004127\n",
      "IF#47,SF#3,MO#2 : MDI171004126\n",
      "IF#47,SF#3,MO#3 : MDI171004125\n",
      "IF#47,SF#3,MO#4 : MDI171004124\n",
      "IF#47,SF#3,MO#5 : MDI171004123\n",
      "IF#47,SF#3,MO#6 : MDI171004122\n",
      "IF#47,SF#3 : SFO170915031\n",
      "IF#47,SF#4,MO#1 : MDI171004121\n",
      "IF#47,SF#4,MO#2 : MDI171004135\n",
      "IF#47,SF#4,MO#3 : MDI171004136\n",
      "IF#47,SF#4,MO#4 : MDI171004139\n",
      "IF#47,SF#4,MO#5 : MDI171004120\n",
      "IF#47,SF#4,MO#6 : not_found\n",
      "IF#47,SF#4 : SFO120405082\n",
      "IF#47 : IFO160101092\n",
      "IF#48,SF#1,MO#1 : MDI171004188\n",
      "IF#48,SF#1,MO#2 : MDI171004189\n",
      "IF#48,SF#1,MO#3 : MDI171004196\n",
      "IF#48,SF#1,MO#4 : MDI171004197\n",
      "IF#48,SF#1,MO#5 : MDI171004198\n",
      "IF#48,SF#1,MO#6 : MDI171004199\n",
      "IF#48,SF#1 : SFO170915035\n",
      "IF#48,SF#2,MO#1 : MDI171004118\n",
      "IF#48,SF#2,MO#2 : MDI171004113\n",
      "IF#48,SF#2,MO#3 : MDI171004112\n",
      "IF#48,SF#2,MO#4 : MDI171004111\n",
      "IF#48,SF#2,MO#5 : MDI171004114\n",
      "IF#48,SF#2,MO#6 : MDI171004115\n",
      "IF#48,SF#2 : SFO160101004\n",
      "IF#48,SF#3,MO#1 : MDI171004107\n",
      "IF#48,SF#3,MO#2 : MDI171004108\n",
      "IF#48,SF#3,MO#3 : MDI171004109\n",
      "IF#48,SF#3,MO#4 : MDI171004110\n",
      "IF#48,SF#3,MO#5 : MDI171004116\n",
      "IF#48,SF#3,MO#6 : MDI171004117\n",
      "IF#48,SF#3 : SFO160101003\n",
      "IF#48,SF#4,MO#1 : MDI171004102\n",
      "IF#48,SF#4,MO#2 : MDI171004103\n",
      "IF#48,SF#4,MO#3 : MDI171004104\n",
      "IF#48,SF#4,MO#4 : MDI171004200\n",
      "IF#48,SF#4,MO#5 : MDI171004201\n",
      "IF#48,SF#4,MO#6 : MDI171004105\n",
      "IF#48,SF#4 : SFO170915032\n",
      "IF#48 : IFO160101095\n"
     ]
    }
   ],
   "source": [
    "#payload_reg = {'ADDR':'393216', 'PSF': '1', 'PMO': '1', 'NAME':'SERIAL_NUMBER'}\n",
    "payload_reg = {'ADDR':'393216', 'NAME':'SERIAL_NUMBER'}\n",
    "\n",
    "for ifocom_num in range(47, 49):\n",
    "    payload_reg['ADDR'] = '393216'\n",
    "    for sfocom_num in range(1, 5):\n",
    "        payload_reg['PSF'] = str(sfocom_num)\n",
    "\n",
    "        for moda_num in range(1, 7):\n",
    "            payload_reg['PMO'] = str(moda_num)\n",
    "            print_serial_number(ifocom_num, payload_reg)\n",
    "\n",
    "        del payload_reg['PMO']\n",
    "        print_serial_number(ifocom_num, payload_reg)\n",
    "\n",
    "    del payload_reg['PSF']\n",
    "    payload_reg['ADDR'] = '1081360'\n",
    "    print_serial_number(ifocom_num, payload_reg)\n",
    "\n"
   ]
  },
  {
   "cell_type": "code",
   "execution_count": null,
   "metadata": {},
   "outputs": [],
   "source": []
  }
 ],
 "metadata": {
  "kernelspec": {
   "display_name": "Python 3",
   "language": "python",
   "name": "python3"
  },
  "language_info": {
   "codemirror_mode": {
    "name": "ipython",
    "version": 3
   },
   "file_extension": ".py",
   "mimetype": "text/x-python",
   "name": "python",
   "nbconvert_exporter": "python",
   "pygments_lexer": "ipython3",
   "version": "3.6.4"
  }
 },
 "nbformat": 4,
 "nbformat_minor": 2
}
